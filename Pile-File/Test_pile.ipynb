{
 "cells": [
  {
   "cell_type": "code",
   "execution_count": 1,
   "id": "e597dccd-9e4d-4c6d-9486-7ed2eccd0aca",
   "metadata": {},
   "outputs": [
    {
     "name": "stdout",
     "output_type": "stream",
     "text": [
      "val stack_empty : 'a list -> bool = <fun>\n",
      "val stack_push : 'a list -> 'a -> 'a list = <fun>\n",
      "val stack_pop : 'a list -> 'a * 'a list = <fun>\n",
      "type 'a stack = { t : 'a array; mutable n : int; }\n",
      "val stack_empty_t : 'a stack -> bool = <fun>\n",
      "val stack_push_t : 'a stack -> 'a -> unit = <fun>\n",
      "val stack_pop_t : 'a stack -> 'a = <fun>\n",
      "type 'a dyn = { mutable d : 'a array; mutable n : int; }\n",
      "val copy : 'a array -> 'a array -> unit = <fun>\n",
      "val stack_push_d : 'a -> 'a dyn -> unit = <fun>\n",
      "val stack_pop_d : 'a dyn -> 'a = <fun>\n",
      "val stack_empty_d : 'a dyn -> bool = <fun>\n"
     ]
    }
   ],
   "source": [
    "#use \"pile.ml\""
   ]
  },
  {
   "cell_type": "code",
   "execution_count": 2,
   "id": "79dd1dc7-19aa-45ca-a149-51ec0db1bdb3",
   "metadata": {},
   "outputs": [
    {
     "data": {
      "text/plain": [
       "val l0 : 'a list = []\n"
      ]
     },
     "execution_count": 2,
     "metadata": {},
     "output_type": "execute_result"
    }
   ],
   "source": [
    "let l0 =[];;"
   ]
  },
  {
   "cell_type": "code",
   "execution_count": 3,
   "id": "a5dd4b50-4cdf-476a-a487-65b2832af2f7",
   "metadata": {},
   "outputs": [
    {
     "data": {
      "text/plain": [
       "- : bool = true\n"
      ]
     },
     "execution_count": 3,
     "metadata": {},
     "output_type": "execute_result"
    }
   ],
   "source": [
    "stack_empty l0;;"
   ]
  },
  {
   "cell_type": "code",
   "execution_count": 4,
   "id": "e9e760e6-9beb-434e-90e6-7c76f7ff8857",
   "metadata": {},
   "outputs": [
    {
     "data": {
      "text/plain": [
       "- : int list = [9]\n"
      ]
     },
     "execution_count": 4,
     "metadata": {},
     "output_type": "execute_result"
    }
   ],
   "source": [
    "stack_push l0 9;;"
   ]
  },
  {
   "cell_type": "code",
   "execution_count": 6,
   "id": "552458d8-0d53-476e-bae4-d01cc5f8ef07",
   "metadata": {},
   "outputs": [
    {
     "ename": "error",
     "evalue": "runtime_error",
     "output_type": "error",
     "traceback": [
      "\u001b[31mException: Failure \"stack is empty\".\nRaised at file \"stdlib.ml\", line 29, characters 22-33\nCalled from file \"toplevel/toploop.ml\", line 208, characters 17-27\n\u001b[0m"
     ]
    }
   ],
   "source": [
    "stack_pop l0;;"
   ]
  },
  {
   "cell_type": "code",
   "execution_count": 7,
   "id": "2cc67d74-1144-4890-ad47-a487d8ec1e18",
   "metadata": {},
   "outputs": [
    {
     "data": {
      "text/plain": [
       "val t0 : int stack = {t = [|9; 9; 9; 9; 9; 9; 9; 9; 9|]; n = 0}\n"
      ]
     },
     "execution_count": 7,
     "metadata": {},
     "output_type": "execute_result"
    }
   ],
   "source": [
    "let t0 = {t = Array.make 9 (9); n= 0};;"
   ]
  },
  {
   "cell_type": "code",
   "execution_count": 9,
   "id": "ec98eda1-1dca-43c4-a9e7-9850eca5c654",
   "metadata": {},
   "outputs": [
    {
     "data": {
      "text/plain": [
       "- : bool = true\n"
      ]
     },
     "execution_count": 9,
     "metadata": {},
     "output_type": "execute_result"
    }
   ],
   "source": [
    "stack_empty_t t0 ;;"
   ]
  },
  {
   "cell_type": "code",
   "execution_count": 10,
   "id": "796b5e4c-8e72-4c38-b895-f36bad89e51b",
   "metadata": {},
   "outputs": [
    {
     "data": {
      "text/plain": [
       "- : unit = ()\n"
      ]
     },
     "execution_count": 10,
     "metadata": {},
     "output_type": "execute_result"
    }
   ],
   "source": [
    "stack_push_t t0 9;;"
   ]
  },
  {
   "cell_type": "code",
   "execution_count": 11,
   "id": "3406cadf-0cc9-423a-a039-54febe937e69",
   "metadata": {},
   "outputs": [
    {
     "data": {
      "text/plain": [
       "- : int stack = {t = [|9; 9; 9; 9; 9; 9; 9; 9; 9|]; n = 1}\n"
      ]
     },
     "execution_count": 11,
     "metadata": {},
     "output_type": "execute_result"
    }
   ],
   "source": [
    "t0;;"
   ]
  },
  {
   "cell_type": "code",
   "execution_count": 12,
   "id": "2632728e-2775-477a-b518-e344fa30528b",
   "metadata": {},
   "outputs": [
    {
     "data": {
      "text/plain": [
       "- : int = 9\n"
      ]
     },
     "execution_count": 12,
     "metadata": {},
     "output_type": "execute_result"
    }
   ],
   "source": [
    "stack_pop_t t0;;"
   ]
  },
  {
   "cell_type": "code",
   "execution_count": null,
   "id": "703179ff-b661-49b5-990b-83e9885bdce2",
   "metadata": {},
   "outputs": [],
   "source": [
    "let d0 = {d = ["
   ]
  }
 ],
 "metadata": {
  "kernelspec": {
   "display_name": "OCaml default",
   "language": "OCaml",
   "name": "ocaml-jupyter"
  },
  "language_info": {
   "codemirror_mode": "text/x-ocaml",
   "file_extension": ".ml",
   "mimetype": "text/x-ocaml",
   "name": "OCaml",
   "nbconverter_exporter": null,
   "pygments_lexer": "OCaml",
   "version": "4.08.1"
  }
 },
 "nbformat": 4,
 "nbformat_minor": 5
}
