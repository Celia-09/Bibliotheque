{
 "cells": [
  {
   "cell_type": "code",
   "execution_count": 1,
   "id": "69cb1bd6-43a8-4ccb-9448-7c7af77c40d5",
   "metadata": {},
   "outputs": [
    {
     "name": "stdout",
     "output_type": "stream",
     "text": [
      "type 'a file = { plus : 'a list; add : 'a list; }\n",
      "val ajoute_file : 'a file -> 'a -> 'a file = <fun>\n",
      "val empty_file : 'a file -> bool = <fun>\n",
      "val pop_file : 'a file -> 'a * 'a file = <fun>\n",
      "type 'a file = {\n",
      "  tab : 'a array;\n",
      "  mutable start : int;\n",
      "  mutable endd : int;\n",
      "  mutable empty : bool;\n",
      "}\n",
      "val retire : 'a file -> 'a = <fun>\n",
      "val ajoute : 'a file -> 'a -> unit = <fun>\n"
     ]
    }
   ],
   "source": [
    "#use \"file.ml\""
   ]
  },
  {
   "cell_type": "code",
   "execution_count": 2,
   "id": "57f2ce84-8097-4c8d-8ca1-96b65420f92e",
   "metadata": {},
   "outputs": [
    {
     "data": {
      "text/plain": [
       "val t0 : int file =\n",
       "  {tab = [|-1; -1; -1; -1|]; start = 0; endd = 0; empty = true}\n"
      ]
     },
     "execution_count": 2,
     "metadata": {},
     "output_type": "execute_result"
    }
   ],
   "source": [
    "let t0 = { tab = [|-1;-1;-1;-1|];start = 0; endd = 0;empty = true};;"
   ]
  },
  {
   "cell_type": "code",
   "execution_count": 3,
   "id": "d7745906-efe8-4aa1-b04c-b2ec4466bd5b",
   "metadata": {},
   "outputs": [
    {
     "data": {
      "text/plain": [
       "val l0 : int file/2 = {plus = [9; 8; 7]; add = [9; 6]}\n"
      ]
     },
     "execution_count": 3,
     "metadata": {},
     "output_type": "execute_result"
    }
   ],
   "source": [
    "let l0 = {plus = [9;8;7]; add = [9;6]};;"
   ]
  },
  {
   "cell_type": "code",
   "execution_count": 10,
   "id": "cbc78323-8600-4024-8788-1eda768e9da1",
   "metadata": {},
   "outputs": [
    {
     "data": {
      "text/plain": [
       "- : int file/2 = {plus = [9; 8; 7]; add = [4; 9; 6]}\n"
      ]
     },
     "execution_count": 10,
     "metadata": {},
     "output_type": "execute_result"
    }
   ],
   "source": [
    "ajoute_file l0 4;;"
   ]
  },
  {
   "cell_type": "code",
   "execution_count": null,
   "id": "9d7852d4-f514-435c-94bd-a9fdf155cf01",
   "metadata": {},
   "outputs": [],
   "source": [
    "empty_file "
   ]
  },
  {
   "cell_type": "code",
   "execution_count": 4,
   "id": "b343f448-116e-46bc-86f7-97a559277d14",
   "metadata": {},
   "outputs": [
    {
     "data": {
      "text/plain": [
       "- : unit = ()\n"
      ]
     },
     "execution_count": 4,
     "metadata": {},
     "output_type": "execute_result"
    }
   ],
   "source": [
    "ajoute t0 8;;"
   ]
  },
  {
   "cell_type": "code",
   "execution_count": 5,
   "id": "baefe948-91b4-43ee-88d6-ef8994615919",
   "metadata": {},
   "outputs": [
    {
     "data": {
      "text/plain": [
       "- : int file = {tab = [|8; -1; -1; -1|]; start = 0; endd = 1; empty = false}\n"
      ]
     },
     "execution_count": 5,
     "metadata": {},
     "output_type": "execute_result"
    }
   ],
   "source": [
    "t0;;"
   ]
  },
  {
   "cell_type": "code",
   "execution_count": 6,
   "id": "9260d73e-61d3-4de2-bd28-8c33edb93c69",
   "metadata": {},
   "outputs": [
    {
     "data": {
      "text/plain": [
       "- : unit = ()\n"
      ]
     },
     "execution_count": 6,
     "metadata": {},
     "output_type": "execute_result"
    }
   ],
   "source": [
    "for i = 3 to 5 do\n",
    "    ajoute t0 i \n",
    "done;"
   ]
  },
  {
   "cell_type": "code",
   "execution_count": 7,
   "id": "faa36208-3430-4acb-88ac-34089ab67f4a",
   "metadata": {},
   "outputs": [
    {
     "data": {
      "text/plain": [
       "- : int file = {tab = [|8; 3; 4; 5|]; start = 0; endd = 0; empty = false}\n"
      ]
     },
     "execution_count": 7,
     "metadata": {},
     "output_type": "execute_result"
    }
   ],
   "source": [
    "t0;;"
   ]
  },
  {
   "cell_type": "code",
   "execution_count": 8,
   "id": "8d5c0a60-88b7-47d0-b29d-1a216c43ff89",
   "metadata": {},
   "outputs": [
    {
     "data": {
      "text/plain": [
       "- : int = 8\n"
      ]
     },
     "execution_count": 8,
     "metadata": {},
     "output_type": "execute_result"
    }
   ],
   "source": [
    "retire t0;;"
   ]
  },
  {
   "cell_type": "code",
   "execution_count": 9,
   "id": "a638105e-df46-4cc9-98f6-e06f431249e0",
   "metadata": {},
   "outputs": [
    {
     "data": {
      "text/plain": [
       "- : int file = {tab = [|8; 3; 4; 5|]; start = 1; endd = 0; empty = false}\n"
      ]
     },
     "execution_count": 9,
     "metadata": {},
     "output_type": "execute_result"
    }
   ],
   "source": [
    "t0;;"
   ]
  }
 ],
 "metadata": {
  "kernelspec": {
   "display_name": "OCaml default",
   "language": "OCaml",
   "name": "ocaml-jupyter"
  },
  "language_info": {
   "codemirror_mode": "text/x-ocaml",
   "file_extension": ".ml",
   "mimetype": "text/x-ocaml",
   "name": "OCaml",
   "nbconverter_exporter": null,
   "pygments_lexer": "OCaml",
   "version": "4.08.1"
  }
 },
 "nbformat": 4,
 "nbformat_minor": 5
}
