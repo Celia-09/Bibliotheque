{
 "cells": [
  {
   "cell_type": "code",
   "execution_count": 1,
   "id": "b4485b32-bf96-4a9d-8a9c-c3e0ac517433",
   "metadata": {},
   "outputs": [
    {
     "name": "stdout",
     "output_type": "stream",
     "text": [
      "type ('a, 'b) table_de_hachage = {\n",
      "  hache : 'a -> int;\n",
      "  data : ('a * 'b) list array;\n",
      "  length : int;\n",
      "}\n",
      "val create : ('a -> int) -> int -> ('a, 'b) table_de_hachage = <fun>\n",
      "val search : ('a, 'b) table_de_hachage -> 'a -> bool = <fun>\n",
      "val elm : ('a, 'b) table_de_hachage -> 'a -> 'b = <fun>\n",
      "val add : ('a, 'b) table_de_hachage -> 'a -> 'b -> unit = <fun>\n",
      "val delete : ('a, 'b) table_de_hachage -> 'a -> unit = <fun>\n"
     ]
    }
   ],
   "source": [
    "#use \"table_de_hachage.ml\""
   ]
  },
  {
   "cell_type": "code",
   "execution_count": 2,
   "id": "5601a4a0-e773-4771-b697-8dbe179b6033",
   "metadata": {},
   "outputs": [
    {
     "data": {
      "text/plain": [
       "- : (int, '_weak1) table_de_hachage =\n",
       "{hache = <fun>;\n",
       " data =\n",
       "  [|[]; []; []; []; []; []; []; []; []; []; []; []; []; []; []; []; []; \n",
       "    []; []; []|];\n",
       " length = 20}\n"
      ]
     },
     "execution_count": 2,
     "metadata": {},
     "output_type": "execute_result"
    }
   ],
   "source": [
    "create (fun x -> x mod 20 ) 20 ;;"
   ]
  },
  {
   "cell_type": "code",
   "execution_count": 3,
   "id": "27e847bc-058c-4fe0-83a8-2ab753d65d9c",
   "metadata": {},
   "outputs": [
    {
     "data": {
      "text/plain": [
       "val t0 : (int, '_weak2) table_de_hachage =\n",
       "  {hache = <fun>;\n",
       "   data =\n",
       "    [|[]; []; []; []; []; []; []; []; []; []; []; []; []; []; []; []; \n",
       "      []; []; []; []|];\n",
       "   length = 20}\n"
      ]
     },
     "execution_count": 3,
     "metadata": {},
     "output_type": "execute_result"
    }
   ],
   "source": [
    "let t0 = create (fun x -> x mod 20) 20;;"
   ]
  },
  {
   "cell_type": "code",
   "execution_count": 4,
   "id": "f1bf7de9-d0e0-4540-a679-14014a0ff997",
   "metadata": {},
   "outputs": [
    {
     "data": {
      "text/plain": [
       "- : bool = false\n"
      ]
     },
     "execution_count": 4,
     "metadata": {},
     "output_type": "execute_result"
    }
   ],
   "source": [
    "search t0 9;;"
   ]
  },
  {
   "cell_type": "code",
   "execution_count": 5,
   "id": "cd3dcdae-65ae-45f9-ac9c-d0e07b49221a",
   "metadata": {},
   "outputs": [
    {
     "ename": "error",
     "evalue": "runtime_error",
     "output_type": "error",
     "traceback": [
      "\u001b[31mException: Failure \"Pas dans la table de hachage\".\nRaised at file \"stdlib.ml\", line 29, characters 22-33\nCalled from file \"toplevel/toploop.ml\", line 208, characters 17-27\n\u001b[0m"
     ]
    }
   ],
   "source": [
    "elm t0 9;;"
   ]
  },
  {
   "cell_type": "code",
   "execution_count": 6,
   "id": "07931d87-97c6-4fc8-ab51-73da909eca18",
   "metadata": {},
   "outputs": [
    {
     "data": {
      "text/plain": [
       "- : unit = ()\n"
      ]
     },
     "execution_count": 6,
     "metadata": {},
     "output_type": "execute_result"
    }
   ],
   "source": [
    "add t0 9 \"Coucou\";;"
   ]
  },
  {
   "cell_type": "code",
   "execution_count": 7,
   "id": "8a0936c7-c705-4c4d-b76a-971e882b1f5b",
   "metadata": {},
   "outputs": [
    {
     "data": {
      "text/plain": [
       "- : bool = true\n"
      ]
     },
     "execution_count": 7,
     "metadata": {},
     "output_type": "execute_result"
    }
   ],
   "source": [
    "search t0 9;;"
   ]
  },
  {
   "cell_type": "code",
   "execution_count": 8,
   "id": "4b7f977a-063c-432c-8be9-65580fe1c0ce",
   "metadata": {},
   "outputs": [
    {
     "data": {
      "text/plain": [
       "- : string = \"Coucou\"\n"
      ]
     },
     "execution_count": 8,
     "metadata": {},
     "output_type": "execute_result"
    }
   ],
   "source": [
    "elm t0 9;;"
   ]
  },
  {
   "cell_type": "code",
   "execution_count": 9,
   "id": "85d32152-19fe-4fd3-96d2-3895c695a751",
   "metadata": {},
   "outputs": [
    {
     "data": {
      "text/plain": [
       "- : unit = ()\n"
      ]
     },
     "execution_count": 9,
     "metadata": {},
     "output_type": "execute_result"
    }
   ],
   "source": [
    "delete t0 9;;"
   ]
  },
  {
   "cell_type": "code",
   "execution_count": null,
   "id": "e7757e54-8737-4513-8dc1-0a26858af1c3",
   "metadata": {},
   "outputs": [],
   "source": [
    "t"
   ]
  }
 ],
 "metadata": {
  "kernelspec": {
   "display_name": "OCaml default",
   "language": "OCaml",
   "name": "ocaml-jupyter"
  },
  "language_info": {
   "codemirror_mode": "text/x-ocaml",
   "file_extension": ".ml",
   "mimetype": "text/x-ocaml",
   "name": "OCaml",
   "nbconverter_exporter": null,
   "pygments_lexer": "OCaml",
   "version": "4.08.1"
  }
 },
 "nbformat": 4,
 "nbformat_minor": 5
}
