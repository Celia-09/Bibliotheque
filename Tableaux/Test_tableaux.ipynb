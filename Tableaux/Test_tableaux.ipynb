{
 "cells": [
  {
   "cell_type": "code",
   "execution_count": 1,
   "id": "e731a272-62cf-4d4a-a897-1f90cf0d8032",
   "metadata": {},
   "outputs": [
    {
     "name": "stdout",
     "output_type": "stream",
     "text": [
      "val sum : int array -> int = <fun>\n",
      "val mem_t : 'a -> 'a array -> bool = <fun>\n",
      "val minimum : int array -> int = <fun>\n",
      "val maximum : int array -> int = <fun>\n",
      "val increase : 'a array -> bool = <fun>\n",
      "val decrease : 'a array -> bool = <fun>\n",
      "val doublon : 'a array -> bool = <fun>\n",
      "val reverse : 'a array -> 'a array = <fun>\n",
      "val equat : 'a array -> 'a array -> bool = <fun>\n",
      "val tranche_max : int array -> int = <fun>\n",
      "val map_t : ('a -> 'a) -> 'a array -> 'a array = <fun>\n",
      "val for_all_t : ('a -> bool) -> 'a array -> bool = <fun>\n",
      "val exists : ('a -> bool) -> 'a array -> bool = <fun>\n",
      "val dichotomie : 'a -> 'a array -> bool = <fun>\n",
      "val trichotomie : 'a -> 'a array -> bool = <fun>\n",
      "val tri_comptage_ : int array -> int array = <fun>\n",
      "val swap : 'a array -> int -> int -> unit = <fun>\n",
      "val sort_bubble : 'a array -> unit = <fun>\n",
      "val lth : 'a list -> int = <fun>\n",
      "val array_of_list : int list -> int array = <fun>\n",
      "val array_to_list : 'a array -> 'a list = <fun>\n",
      "type 'a dyn = { mutable t : 'a array; mutable n : int; }\n",
      "val copy : 'a array -> 'a array -> unit = <fun>\n",
      "val add : 'a -> 'a dyn -> unit = <fun>\n"
     ]
    }
   ],
   "source": [
    "#use \"tableaux.ml\""
   ]
  },
  {
   "cell_type": "code",
   "execution_count": 2,
   "id": "7d3a2d16-cf35-4733-bfc7-1d1d88840707",
   "metadata": {},
   "outputs": [
    {
     "data": {
      "text/plain": [
       "val t0 : int array = [|9; 8; 7; 6; 5; 4; 3; 2; 1|]\n"
      ]
     },
     "execution_count": 2,
     "metadata": {},
     "output_type": "execute_result"
    }
   ],
   "source": [
    "let t0 = [|9;8;7;6;5;4;3;2;1|]"
   ]
  },
  {
   "cell_type": "code",
   "execution_count": 3,
   "id": "9fa9c090-b80a-4b46-9cb3-d50f453cd68e",
   "metadata": {},
   "outputs": [
    {
     "data": {
      "text/plain": [
       "- : int = 45\n"
      ]
     },
     "execution_count": 3,
     "metadata": {},
     "output_type": "execute_result"
    }
   ],
   "source": [
    "sum t0;;"
   ]
  },
  {
   "cell_type": "code",
   "execution_count": 4,
   "id": "8ddd7b02-b809-4013-b736-e5c6bc6b3b79",
   "metadata": {},
   "outputs": [
    {
     "data": {
      "text/plain": [
       "- : bool = true\n"
      ]
     },
     "execution_count": 4,
     "metadata": {},
     "output_type": "execute_result"
    }
   ],
   "source": [
    "mem_t 4 t0;;"
   ]
  },
  {
   "cell_type": "code",
   "execution_count": 5,
   "id": "4078cace-d0f5-4ca2-a55c-37bea7c61f17",
   "metadata": {},
   "outputs": [
    {
     "data": {
      "text/plain": [
       "- : bool = false\n"
      ]
     },
     "execution_count": 5,
     "metadata": {},
     "output_type": "execute_result"
    }
   ],
   "source": [
    "mem_t 17 t0;;"
   ]
  },
  {
   "cell_type": "code",
   "execution_count": 6,
   "id": "77d947ab-d4ee-4755-8d40-c914bcb901c1",
   "metadata": {},
   "outputs": [
    {
     "data": {
      "text/plain": [
       "- : int = 1\n"
      ]
     },
     "execution_count": 6,
     "metadata": {},
     "output_type": "execute_result"
    }
   ],
   "source": [
    "minimum t0;;"
   ]
  },
  {
   "cell_type": "code",
   "execution_count": 7,
   "id": "839211f8-11c4-431e-9e34-f606272ec33c",
   "metadata": {},
   "outputs": [
    {
     "data": {
      "text/plain": [
       "- : int = 9\n"
      ]
     },
     "execution_count": 7,
     "metadata": {},
     "output_type": "execute_result"
    }
   ],
   "source": [
    "maximum t0;;"
   ]
  },
  {
   "cell_type": "code",
   "execution_count": 8,
   "id": "75c9a956-a097-4a3e-a8c7-ba8ef65c4d9a",
   "metadata": {},
   "outputs": [
    {
     "data": {
      "text/plain": [
       "- : bool = false\n"
      ]
     },
     "execution_count": 8,
     "metadata": {},
     "output_type": "execute_result"
    }
   ],
   "source": [
    "increase t0;;"
   ]
  },
  {
   "cell_type": "code",
   "execution_count": 9,
   "id": "c17d8e9d-58c1-485b-a85f-a0b8f5adbc88",
   "metadata": {},
   "outputs": [
    {
     "data": {
      "text/plain": [
       "- : bool = true\n"
      ]
     },
     "execution_count": 9,
     "metadata": {},
     "output_type": "execute_result"
    }
   ],
   "source": [
    "decrease t0;;"
   ]
  },
  {
   "cell_type": "code",
   "execution_count": 10,
   "id": "4ecd7148-3f61-439d-a636-9f5352408564",
   "metadata": {},
   "outputs": [
    {
     "data": {
      "text/plain": [
       "- : bool = false\n"
      ]
     },
     "execution_count": 10,
     "metadata": {},
     "output_type": "execute_result"
    }
   ],
   "source": [
    "doublon t0;;"
   ]
  },
  {
   "cell_type": "code",
   "execution_count": 11,
   "id": "1a8fc497-9b8f-41bb-83e9-feb17f662609",
   "metadata": {},
   "outputs": [
    {
     "data": {
      "text/plain": [
       "- : int array = [|1; 2; 3; 4; 5; 6; 7; 8; 9|]\n"
      ]
     },
     "execution_count": 11,
     "metadata": {},
     "output_type": "execute_result"
    }
   ],
   "source": [
    "reverse t0;;"
   ]
  },
  {
   "cell_type": "code",
   "execution_count": 12,
   "id": "3051d149-357e-4a59-8a01-c96125691021",
   "metadata": {},
   "outputs": [
    {
     "data": {
      "text/plain": [
       "val t1 : int array = [|8; 5; 7; 3; 4|]\n"
      ]
     },
     "execution_count": 12,
     "metadata": {},
     "output_type": "execute_result"
    }
   ],
   "source": [
    "let t1 = [|8;5;7;3;4|]"
   ]
  },
  {
   "cell_type": "code",
   "execution_count": 13,
   "id": "39b3109a-a2ac-478e-8390-f02d02348a1f",
   "metadata": {},
   "outputs": [
    {
     "data": {
      "text/plain": [
       "val t2 : int array = [|8; 5; 7; 3; 4|]\n"
      ]
     },
     "execution_count": 13,
     "metadata": {},
     "output_type": "execute_result"
    }
   ],
   "source": [
    "let t2 = [|8;5;7;3;4|]"
   ]
  },
  {
   "cell_type": "code",
   "execution_count": 14,
   "id": "6e75c40c-49ce-47da-a36d-35468dfc8fc2",
   "metadata": {},
   "outputs": [
    {
     "data": {
      "text/plain": [
       "- : bool = true\n"
      ]
     },
     "execution_count": 14,
     "metadata": {},
     "output_type": "execute_result"
    }
   ],
   "source": [
    "equat t1 t2;;"
   ]
  },
  {
   "cell_type": "code",
   "execution_count": 15,
   "id": "d478a300-cea9-473d-8236-a87e0dff03b0",
   "metadata": {},
   "outputs": [
    {
     "data": {
      "text/plain": [
       "- : bool = false\n"
      ]
     },
     "execution_count": 15,
     "metadata": {},
     "output_type": "execute_result"
    }
   ],
   "source": [
    "equat t0 t2;;"
   ]
  },
  {
   "cell_type": "code",
   "execution_count": 16,
   "id": "f64553cb-9c28-4cfe-ba42-0da0425badb0",
   "metadata": {},
   "outputs": [
    {
     "data": {
      "text/plain": [
       "- : int = 45\n"
      ]
     },
     "execution_count": 16,
     "metadata": {},
     "output_type": "execute_result"
    }
   ],
   "source": [
    "tranche_max t0;;"
   ]
  },
  {
   "cell_type": "code",
   "execution_count": 18,
   "id": "84c67c02-5aee-49d1-ad81-3850aba52e7d",
   "metadata": {},
   "outputs": [
    {
     "data": {
      "text/plain": [
       "- : int array = [|9; 10; 11; 12; 13; 14; 15; 16; 17|]\n"
      ]
     },
     "execution_count": 18,
     "metadata": {},
     "output_type": "execute_result"
    }
   ],
   "source": [
    "map_t (fun x-> 8 + x) t0;;"
   ]
  },
  {
   "cell_type": "code",
   "execution_count": 24,
   "id": "ee0f399a-255b-4068-bf61-a605b600b0e7",
   "metadata": {},
   "outputs": [
    {
     "data": {
      "text/plain": [
       "- : bool = false\n"
      ]
     },
     "execution_count": 24,
     "metadata": {},
     "output_type": "execute_result"
    }
   ],
   "source": [
    "for_all_t (fun x-> x < 5) t2;;"
   ]
  },
  {
   "cell_type": "code",
   "execution_count": 23,
   "id": "ed69d6d3-6a0f-4d85-9e37-f7e2e973fe5f",
   "metadata": {},
   "outputs": [
    {
     "data": {
      "text/plain": [
       "- : bool = true\n"
      ]
     },
     "execution_count": 23,
     "metadata": {},
     "output_type": "execute_result"
    }
   ],
   "source": [
    "exists (fun x -> x < 5) t2;;"
   ]
  },
  {
   "cell_type": "code",
   "execution_count": 30,
   "id": "779f631b-5d4e-42b8-aa6d-888a3be63321",
   "metadata": {},
   "outputs": [
    {
     "data": {
      "text/plain": [
       "val t3 : int array = [|8; 5; 7; 3; 4; 9; 0; 7; 6; 5; 8; 9; 0; 6; 0|]\n"
      ]
     },
     "execution_count": 30,
     "metadata": {},
     "output_type": "execute_result"
    }
   ],
   "source": [
    "let t3 = [|8;5;7;3;4;9;0;7;6;5;8;9;0;6;0|]"
   ]
  },
  {
   "cell_type": "code",
   "execution_count": 31,
   "id": "453e2026-e187-4bd4-a1bb-47437481981a",
   "metadata": {},
   "outputs": [
    {
     "data": {
      "text/plain": [
       "- : bool = true\n"
      ]
     },
     "execution_count": 31,
     "metadata": {},
     "output_type": "execute_result"
    }
   ],
   "source": [
    "dichotomie 9 t3;;"
   ]
  },
  {
   "cell_type": "code",
   "execution_count": 34,
   "id": "30f260f0-cd04-42fb-a50f-7a6052535fd7",
   "metadata": {},
   "outputs": [
    {
     "data": {
      "text/plain": [
       "- : bool = false\n"
      ]
     },
     "execution_count": 34,
     "metadata": {},
     "output_type": "execute_result"
    }
   ],
   "source": [
    "dichotomie 28 t3;;"
   ]
  },
  {
   "cell_type": "code",
   "execution_count": 35,
   "id": "cc10eb86-8a92-4736-8cae-58ae7c24b045",
   "metadata": {},
   "outputs": [
    {
     "data": {
      "text/plain": [
       "- : bool = true\n"
      ]
     },
     "execution_count": 35,
     "metadata": {},
     "output_type": "execute_result"
    }
   ],
   "source": [
    "trichotomie 9 t3;;"
   ]
  },
  {
   "cell_type": "code",
   "execution_count": 36,
   "id": "375a17fe-e4ba-423c-a400-ebef32b32e08",
   "metadata": {},
   "outputs": [
    {
     "data": {
      "text/plain": [
       "- : bool = false\n"
      ]
     },
     "execution_count": 36,
     "metadata": {},
     "output_type": "execute_result"
    }
   ],
   "source": [
    "trichotomie 28 t3;;"
   ]
  },
  {
   "cell_type": "code",
   "execution_count": 37,
   "id": "4f155145-350e-404e-bf52-96c8715996df",
   "metadata": {},
   "outputs": [
    {
     "data": {
      "text/plain": [
       "- : int array = [|0; 0; 0; 3; 4; 5; 5; 6; 6; 7; 7; 8; 8; 9; 9|]\n"
      ]
     },
     "execution_count": 37,
     "metadata": {},
     "output_type": "execute_result"
    }
   ],
   "source": [
    "tri_comptage_ t3;;"
   ]
  },
  {
   "cell_type": "code",
   "execution_count": 40,
   "id": "30ec43b6-becb-461e-bd26-d164fba34212",
   "metadata": {},
   "outputs": [
    {
     "data": {
      "text/plain": [
       "val t4 : int array = [|9; 7; 5; 6; 8; 4; 2; 1; 4|]\n"
      ]
     },
     "execution_count": 40,
     "metadata": {},
     "output_type": "execute_result"
    }
   ],
   "source": [
    "let t4 = [|9;7;5;6;8;4;2;1;4|]"
   ]
  },
  {
   "cell_type": "code",
   "execution_count": 41,
   "id": "1502400c-4000-4ed0-ac08-125d4fa2283d",
   "metadata": {},
   "outputs": [
    {
     "data": {
      "text/plain": [
       "- : unit = ()\n"
      ]
     },
     "execution_count": 41,
     "metadata": {},
     "output_type": "execute_result"
    }
   ],
   "source": [
    "sort_bubble t4;;"
   ]
  },
  {
   "cell_type": "code",
   "execution_count": 42,
   "id": "6c7d3473-18dc-420f-ac7e-c8b51880cd3b",
   "metadata": {},
   "outputs": [
    {
     "data": {
      "text/plain": [
       "- : int array = [|1; 2; 4; 4; 5; 6; 7; 8; 9|]\n"
      ]
     },
     "execution_count": 42,
     "metadata": {},
     "output_type": "execute_result"
    }
   ],
   "source": [
    "t4;;"
   ]
  },
  {
   "cell_type": "code",
   "execution_count": 45,
   "id": "17068341-2fbf-4fcf-92e8-1cb2df4f5b6f",
   "metadata": {},
   "outputs": [
    {
     "data": {
      "text/plain": [
       "val l : int list = [2; 3; 4; 5; 6; 7; 8]\n"
      ]
     },
     "execution_count": 45,
     "metadata": {},
     "output_type": "execute_result"
    }
   ],
   "source": [
    "let l = [2;3;4;5;6;7;8]"
   ]
  },
  {
   "cell_type": "code",
   "execution_count": 46,
   "id": "cc07622a-6bac-4725-b2a4-f960e238a012",
   "metadata": {},
   "outputs": [
    {
     "data": {
      "text/plain": [
       "val t5 : int array = [|9; 7; 5; 6; 8; 7; 0|]\n"
      ]
     },
     "execution_count": 46,
     "metadata": {},
     "output_type": "execute_result"
    }
   ],
   "source": [
    "let t5 = [|9;7;5;6;8;7;0|]"
   ]
  },
  {
   "cell_type": "code",
   "execution_count": 44,
   "id": "9cc8d207-6898-49ac-9b5d-43766e15e0a0",
   "metadata": {},
   "outputs": [
    {
     "data": {
      "text/plain": [
       "- : int = 7\n"
      ]
     },
     "execution_count": 44,
     "metadata": {},
     "output_type": "execute_result"
    }
   ],
   "source": [
    "lth l;"
   ]
  },
  {
   "cell_type": "code",
   "execution_count": 47,
   "id": "9f0b3ede-0caa-47ad-9a6b-b6566fefb04a",
   "metadata": {},
   "outputs": [
    {
     "data": {
      "text/plain": [
       "- : int array = [|2; 3; 4; 5; 6; 7; 8|]\n"
      ]
     },
     "execution_count": 47,
     "metadata": {},
     "output_type": "execute_result"
    }
   ],
   "source": [
    "array_of_list l;;"
   ]
  },
  {
   "cell_type": "code",
   "execution_count": 48,
   "id": "c461b48f-7179-45ec-bd61-44dc294b3241",
   "metadata": {},
   "outputs": [
    {
     "data": {
      "text/plain": [
       "- : int list = [9; 7; 5; 6; 8; 7; 0]\n"
      ]
     },
     "execution_count": 48,
     "metadata": {},
     "output_type": "execute_result"
    }
   ],
   "source": [
    "array_to_list t5;;"
   ]
  },
  {
   "cell_type": "code",
   "execution_count": 58,
   "id": "6e323180-eb9e-4052-816b-120a137c376e",
   "metadata": {},
   "outputs": [
    {
     "data": {
      "text/plain": [
       "val t6 : int array = [|2; 3; 7; 8; 5; 0|]\n"
      ]
     },
     "execution_count": 58,
     "metadata": {},
     "output_type": "execute_result"
    }
   ],
   "source": [
    "let t6 = [|2;3;7;8;5;0|]"
   ]
  },
  {
   "cell_type": "code",
   "execution_count": 59,
   "id": "0425f6db-0d72-4994-9dc7-6c2a3fa315d4",
   "metadata": {},
   "outputs": [
    {
     "data": {
      "text/plain": [
       "val t7 : int array = [|2; 6; 7; 8; 9; 0|]\n"
      ]
     },
     "execution_count": 59,
     "metadata": {},
     "output_type": "execute_result"
    }
   ],
   "source": [
    "let t7 = [|2;6;7;8;9;0|]"
   ]
  },
  {
   "cell_type": "code",
   "execution_count": 60,
   "id": "358eacbb-fbb2-4c5c-aa89-61a85d4bfef6",
   "metadata": {},
   "outputs": [
    {
     "data": {
      "text/plain": [
       "- : unit = ()\n"
      ]
     },
     "execution_count": 60,
     "metadata": {},
     "output_type": "execute_result"
    }
   ],
   "source": [
    "copy t6 t7;;"
   ]
  },
  {
   "cell_type": "code",
   "execution_count": 61,
   "id": "21334d12-fa2d-401d-bfdb-b296b00233a0",
   "metadata": {},
   "outputs": [
    {
     "data": {
      "text/plain": [
       "- : int array = [|2; 3; 7; 8; 5; 0|]\n"
      ]
     },
     "execution_count": 61,
     "metadata": {},
     "output_type": "execute_result"
    }
   ],
   "source": [
    "t7"
   ]
  },
  {
   "cell_type": "code",
   "execution_count": null,
   "id": "3c65b123-9944-4d86-9e12-c07fc561e48e",
   "metadata": {},
   "outputs": [],
   "source": [
    "let d0 = "
   ]
  }
 ],
 "metadata": {
  "kernelspec": {
   "display_name": "OCaml default",
   "language": "OCaml",
   "name": "ocaml-jupyter"
  },
  "language_info": {
   "codemirror_mode": "text/x-ocaml",
   "file_extension": ".ml",
   "mimetype": "text/x-ocaml",
   "name": "OCaml",
   "nbconverter_exporter": null,
   "pygments_lexer": "OCaml",
   "version": "4.08.1"
  }
 },
 "nbformat": 4,
 "nbformat_minor": 5
}
