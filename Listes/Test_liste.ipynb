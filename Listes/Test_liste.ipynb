{
 "cells": [
  {
   "cell_type": "code",
   "execution_count": 1,
   "id": "572a82d1-4f08-4702-bebb-676a56fd1b2b",
   "metadata": {},
   "outputs": [
    {
     "name": "stdout",
     "output_type": "stream",
     "text": [
      "val fst_l : 'a list -> 'a = <fun>\n",
      "val lst : 'a list -> 'a = <fun>\n",
      "val nvl : int -> 'a list -> 'a = <fun>\n",
      "val lth : 'a list -> int = <fun>\n",
      "val sum : int list -> int = <fun>\n",
      "val mem : 'a -> 'a list -> bool = <fun>\n",
      "val append : 'a list -> 'a list -> 'a list = <fun>\n",
      "val rev_append : 'a list -> 'a list -> 'a list = <fun>\n",
      "val mini : int list -> int = <fun>\n",
      "val maxi_l : int list -> int = <fun>\n",
      "val increase : 'a list -> bool = <fun>\n",
      "val decrease_l : 'a list -> bool = <fun>\n",
      "val doublon : 'a list -> bool = <fun>\n",
      "val doublon2 : 'a list -> 'a list = <fun>\n",
      "val equal : 'a list -> 'a list -> bool = <fun>\n",
      "val map : ('a -> 'b) -> 'a list -> 'b list = <fun>\n",
      "val filter : ('a -> bool) -> 'a list -> 'a list = <fun>\n",
      "val for_all : ('a -> bool) -> 'a list -> bool = <fun>\n",
      "val exists : ('a -> bool) -> 'a list -> bool = <fun>\n",
      "val asso_pairs : 'a list -> 'b list -> ('a * 'b) list = <fun>\n",
      "val split_pairs_l : ('a * 'b) list -> 'a list * 'b list = <fun>\n",
      "val split : 'a list -> 'a list * 'a list = <fun>\n",
      "val fusion_l : 'a list -> 'a list -> 'a list = <fun>\n",
      "val partition : 'a list -> 'a -> 'a list * 'a list = <fun>\n",
      "val quicksort : 'a list -> 'a list = <fun>\n",
      "val insert : 'a -> 'a list -> 'a list = <fun>\n",
      "val insert_sort : 'a list -> 'a list = <fun>\n",
      "val add : 'a -> 'a list list -> 'a list list = <fun>\n",
      "val parties : 'a list -> 'a list list = <fun>\n",
      "val array_of_list : int list -> int array = <fun>\n",
      "val array_to_list : 'a array -> 'a list = <fun>\n",
      "type 'a l2c = { elem : int; mutable prev : 'a l2c; mutable next : 'a l2c; }\n",
      "val create_l2c : int -> 'a l2c = <fun>\n",
      "val add_l2c : 'a l2c -> int -> unit = <fun>\n",
      "val suppr_l2c : 'a l2c -> unit = <fun>\n",
      "val mem_l2c : int -> 'a l2c -> bool = <fun>\n",
      "val length_l2c : 'a l2c -> int = <fun>\n",
      "val print_l2c : 'a l2c -> unit = <fun>\n",
      "val fusion_l2c : 'a l2c -> 'a l2c -> unit = <fun>\n"
     ]
    }
   ],
   "source": [
    "#use \"liste.ml\""
   ]
  },
  {
   "cell_type": "code",
   "execution_count": 3,
   "id": "8cf614ae-6509-4062-9c02-60923007f2c3",
   "metadata": {},
   "outputs": [
    {
     "data": {
      "text/plain": [
       "val l0 : int list = [1; 2; -8; 1; 3]\n"
      ]
     },
     "execution_count": 3,
     "metadata": {},
     "output_type": "execute_result"
    }
   ],
   "source": [
    "let l0 = [1;2;-8;1;3]"
   ]
  },
  {
   "cell_type": "code",
   "execution_count": 4,
   "id": "2039343b-7f32-4ef4-928a-e311327ac895",
   "metadata": {},
   "outputs": [
    {
     "data": {
      "text/plain": [
       "val l1 : int list = [9; 7; 2; 6; 5]\n"
      ]
     },
     "execution_count": 4,
     "metadata": {},
     "output_type": "execute_result"
    }
   ],
   "source": [
    "let l1 = [9;7;2;6;5]"
   ]
  },
  {
   "cell_type": "code",
   "execution_count": 5,
   "id": "02e0436c-9b52-4d48-b602-38185f533f85",
   "metadata": {},
   "outputs": [
    {
     "data": {
      "text/plain": [
       "- : int = 1\n"
      ]
     },
     "execution_count": 5,
     "metadata": {},
     "output_type": "execute_result"
    }
   ],
   "source": [
    "fst_l l0;;"
   ]
  },
  {
   "cell_type": "code",
   "execution_count": 6,
   "id": "3b2c7a3a-f56d-4d48-be9d-aa82c612d231",
   "metadata": {},
   "outputs": [
    {
     "data": {
      "text/plain": [
       "- : int = 9\n"
      ]
     },
     "execution_count": 6,
     "metadata": {},
     "output_type": "execute_result"
    }
   ],
   "source": [
    "fst_l l1;;"
   ]
  },
  {
   "cell_type": "code",
   "execution_count": 7,
   "id": "b8afbf57-d2e8-4e75-9129-16f6689407b3",
   "metadata": {},
   "outputs": [
    {
     "data": {
      "text/plain": [
       "- : int = 3\n"
      ]
     },
     "execution_count": 7,
     "metadata": {},
     "output_type": "execute_result"
    }
   ],
   "source": [
    "lst l0;;"
   ]
  },
  {
   "cell_type": "code",
   "execution_count": 8,
   "id": "5f54578d-4391-40ff-9040-c2403dfc823a",
   "metadata": {},
   "outputs": [
    {
     "data": {
      "text/plain": [
       "- : int = 5\n"
      ]
     },
     "execution_count": 8,
     "metadata": {},
     "output_type": "execute_result"
    }
   ],
   "source": [
    "lst l1;;"
   ]
  },
  {
   "cell_type": "code",
   "execution_count": 9,
   "id": "25ac2277-0a11-4c2a-bb3f-d345388e1aa8",
   "metadata": {},
   "outputs": [
    {
     "data": {
      "text/plain": [
       "- : int = 1\n"
      ]
     },
     "execution_count": 9,
     "metadata": {},
     "output_type": "execute_result"
    }
   ],
   "source": [
    "nvl 3 l0;;"
   ]
  },
  {
   "cell_type": "code",
   "execution_count": 10,
   "id": "4297f5f9-bb2e-4fe3-abe4-a2d064b93639",
   "metadata": {},
   "outputs": [
    {
     "data": {
      "text/plain": [
       "- : int = 5\n"
      ]
     },
     "execution_count": 10,
     "metadata": {},
     "output_type": "execute_result"
    }
   ],
   "source": [
    "nvl 4 l1;;"
   ]
  },
  {
   "cell_type": "code",
   "execution_count": 11,
   "id": "2ff7f83c-bb87-4cff-8806-02ce248a1f9c",
   "metadata": {},
   "outputs": [
    {
     "data": {
      "text/plain": [
       "- : int = 5\n"
      ]
     },
     "execution_count": 11,
     "metadata": {},
     "output_type": "execute_result"
    }
   ],
   "source": [
    "lth l0;;"
   ]
  },
  {
   "cell_type": "code",
   "execution_count": 12,
   "id": "ce0d0b64-3e0e-43a1-8d86-8ce6b56dd640",
   "metadata": {},
   "outputs": [
    {
     "data": {
      "text/plain": [
       "- : int = 5\n"
      ]
     },
     "execution_count": 12,
     "metadata": {},
     "output_type": "execute_result"
    }
   ],
   "source": [
    "lth l1;;"
   ]
  },
  {
   "cell_type": "code",
   "execution_count": 13,
   "id": "0304c44b-54d7-46ce-be39-2c28beb5d2a6",
   "metadata": {},
   "outputs": [
    {
     "data": {
      "text/plain": [
       "- : int = -1\n"
      ]
     },
     "execution_count": 13,
     "metadata": {},
     "output_type": "execute_result"
    }
   ],
   "source": [
    "sum l0;;"
   ]
  },
  {
   "cell_type": "code",
   "execution_count": 14,
   "id": "8ebc1ad2-958a-4543-91a4-2e87896d97a8",
   "metadata": {},
   "outputs": [
    {
     "data": {
      "text/plain": [
       "- : int = 29\n"
      ]
     },
     "execution_count": 14,
     "metadata": {},
     "output_type": "execute_result"
    }
   ],
   "source": [
    "sum l1;;"
   ]
  },
  {
   "cell_type": "code",
   "execution_count": 15,
   "id": "48729e3d-3db8-4038-bcf0-8abce7df0dcf",
   "metadata": {},
   "outputs": [
    {
     "data": {
      "text/plain": [
       "- : bool = false\n"
      ]
     },
     "execution_count": 15,
     "metadata": {},
     "output_type": "execute_result"
    }
   ],
   "source": [
    "mem 9 l0;;"
   ]
  },
  {
   "cell_type": "code",
   "execution_count": 16,
   "id": "5b981b0a-73d1-44de-b008-525f504a8ab4",
   "metadata": {},
   "outputs": [
    {
     "data": {
      "text/plain": [
       "- : bool = true\n"
      ]
     },
     "execution_count": 16,
     "metadata": {},
     "output_type": "execute_result"
    }
   ],
   "source": [
    "mem 9 l1;;"
   ]
  },
  {
   "cell_type": "code",
   "execution_count": 17,
   "id": "6da834f0-d35a-4267-9e6e-3a3588881906",
   "metadata": {},
   "outputs": [
    {
     "data": {
      "text/plain": [
       "- : int list = [1; 2; -8; 1; 3; 9; 7; 2; 6; 5]\n"
      ]
     },
     "execution_count": 17,
     "metadata": {},
     "output_type": "execute_result"
    }
   ],
   "source": [
    "append l0 l1;;"
   ]
  },
  {
   "cell_type": "code",
   "execution_count": 18,
   "id": "9a38dd66-16c3-4840-abd1-dc5bfeb2b70a",
   "metadata": {},
   "outputs": [
    {
     "data": {
      "text/plain": [
       "- : int list = [3; 1; -8; 2; 1; 9; 7; 2; 6; 5]\n"
      ]
     },
     "execution_count": 18,
     "metadata": {},
     "output_type": "execute_result"
    }
   ],
   "source": [
    "rev_append l0 l1;;"
   ]
  },
  {
   "cell_type": "code",
   "execution_count": 20,
   "id": "90649e3d-2507-4da4-a22a-924835aedab4",
   "metadata": {},
   "outputs": [
    {
     "data": {
      "text/plain": [
       "- : int list = [9; 7; 2; 6; 5]\n"
      ]
     },
     "execution_count": 20,
     "metadata": {},
     "output_type": "execute_result"
    }
   ],
   "source": [
    "rev_append [] l1;;"
   ]
  },
  {
   "cell_type": "code",
   "execution_count": 21,
   "id": "89ba0e74-1642-4d17-9654-51cf42540eb7",
   "metadata": {},
   "outputs": [
    {
     "data": {
      "text/plain": [
       "- : int = -8\n"
      ]
     },
     "execution_count": 21,
     "metadata": {},
     "output_type": "execute_result"
    }
   ],
   "source": [
    "mini l0;;"
   ]
  },
  {
   "cell_type": "code",
   "execution_count": 22,
   "id": "ed0ffb22-993e-4c40-b6fc-4adee77ca8d4",
   "metadata": {},
   "outputs": [
    {
     "data": {
      "text/plain": [
       "- : int = 2\n"
      ]
     },
     "execution_count": 22,
     "metadata": {},
     "output_type": "execute_result"
    }
   ],
   "source": [
    "mini l1;;"
   ]
  },
  {
   "cell_type": "code",
   "execution_count": 25,
   "id": "8bc0d85f-f405-4514-b4cb-458f85d18573",
   "metadata": {},
   "outputs": [
    {
     "data": {
      "text/plain": [
       "- : int = 3\n"
      ]
     },
     "execution_count": 25,
     "metadata": {},
     "output_type": "execute_result"
    }
   ],
   "source": [
    "maxi_l l0;;"
   ]
  },
  {
   "cell_type": "code",
   "execution_count": 26,
   "id": "f6cc1cb5-3cf0-4b5c-a7dd-719ee7b815cd",
   "metadata": {},
   "outputs": [
    {
     "data": {
      "text/plain": [
       "- : int = 9\n"
      ]
     },
     "execution_count": 26,
     "metadata": {},
     "output_type": "execute_result"
    }
   ],
   "source": [
    "maxi_l l1;;"
   ]
  },
  {
   "cell_type": "code",
   "execution_count": 23,
   "id": "8ac54884-0559-4233-a11c-9d3f0b6cdbca",
   "metadata": {},
   "outputs": [
    {
     "data": {
      "text/plain": [
       "val l2 : int list = [1; 2; 3; 4; 5]\n"
      ]
     },
     "execution_count": 23,
     "metadata": {},
     "output_type": "execute_result"
    }
   ],
   "source": [
    "let l2 = [1;2;3;4;5]"
   ]
  },
  {
   "cell_type": "code",
   "execution_count": 24,
   "id": "2620d4e0-5a3c-4a11-9dd7-c941b476dfb9",
   "metadata": {},
   "outputs": [
    {
     "data": {
      "text/plain": [
       "val l3 : int list = [5; 4; 3; 2; 1]\n"
      ]
     },
     "execution_count": 24,
     "metadata": {},
     "output_type": "execute_result"
    }
   ],
   "source": [
    "let l3 = [5;4;3;2;1]"
   ]
  },
  {
   "cell_type": "code",
   "execution_count": 27,
   "id": "a7b08ea6-485d-4684-b9d6-a6a03e3b6eea",
   "metadata": {},
   "outputs": [
    {
     "data": {
      "text/plain": [
       "- : bool = true\n"
      ]
     },
     "execution_count": 27,
     "metadata": {},
     "output_type": "execute_result"
    }
   ],
   "source": [
    "increase l2;;"
   ]
  },
  {
   "cell_type": "code",
   "execution_count": 33,
   "id": "5b226a1f-1885-4fd0-b9cb-ff29ae4d112d",
   "metadata": {},
   "outputs": [
    {
     "data": {
      "text/plain": [
       "- : bool = false\n"
      ]
     },
     "execution_count": 33,
     "metadata": {},
     "output_type": "execute_result"
    }
   ],
   "source": [
    "increase l3;;"
   ]
  },
  {
   "cell_type": "code",
   "execution_count": 34,
   "id": "0f775b5d-472c-49d0-8b91-aeb63ee8a4c4",
   "metadata": {},
   "outputs": [
    {
     "data": {
      "text/plain": [
       "- : bool = false\n"
      ]
     },
     "execution_count": 34,
     "metadata": {},
     "output_type": "execute_result"
    }
   ],
   "source": [
    "decrease_l l2;;"
   ]
  },
  {
   "cell_type": "code",
   "execution_count": 35,
   "id": "2e0741b6-e0b9-4880-8d5f-db0b9109ce3e",
   "metadata": {},
   "outputs": [
    {
     "data": {
      "text/plain": [
       "- : bool = true\n"
      ]
     },
     "execution_count": 35,
     "metadata": {},
     "output_type": "execute_result"
    }
   ],
   "source": [
    "decrease_l l3;"
   ]
  },
  {
   "cell_type": "code",
   "execution_count": 36,
   "id": "8b5b7f72-476b-4ff7-9c93-42c09deff85d",
   "metadata": {},
   "outputs": [
    {
     "data": {
      "text/plain": [
       "- : bool = true\n"
      ]
     },
     "execution_count": 36,
     "metadata": {},
     "output_type": "execute_result"
    }
   ],
   "source": [
    "doublon l0;;"
   ]
  },
  {
   "cell_type": "code",
   "execution_count": 37,
   "id": "07e56435-85ed-4f60-82da-c228b5d7a36b",
   "metadata": {},
   "outputs": [
    {
     "data": {
      "text/plain": [
       "- : int list = [2; -8; 1; 3]\n"
      ]
     },
     "execution_count": 37,
     "metadata": {},
     "output_type": "execute_result"
    }
   ],
   "source": [
    "doublon2 l0;;"
   ]
  },
  {
   "cell_type": "code",
   "execution_count": 38,
   "id": "a5d549ce-7d4f-4f4d-b4fd-724296e6bc9f",
   "metadata": {},
   "outputs": [
    {
     "data": {
      "text/plain": [
       "val l4 : int list = [2; 3; 4]\n"
      ]
     },
     "execution_count": 38,
     "metadata": {},
     "output_type": "execute_result"
    }
   ],
   "source": [
    "let l4 = [2;3;4]"
   ]
  },
  {
   "cell_type": "code",
   "execution_count": 39,
   "id": "9d90af53-995d-40e2-a7f7-9a54a0af8005",
   "metadata": {},
   "outputs": [
    {
     "data": {
      "text/plain": [
       "val l5 : int list = [2; 3; 4]\n"
      ]
     },
     "execution_count": 39,
     "metadata": {},
     "output_type": "execute_result"
    }
   ],
   "source": [
    "let l5 = [2;3;4]"
   ]
  },
  {
   "cell_type": "code",
   "execution_count": 40,
   "id": "5bdfb6b6-24aa-4c67-a8fb-c29af5e6c291",
   "metadata": {},
   "outputs": [
    {
     "data": {
      "text/plain": [
       "- : bool = true\n"
      ]
     },
     "execution_count": 40,
     "metadata": {},
     "output_type": "execute_result"
    }
   ],
   "source": [
    "equal l4 l5;;"
   ]
  },
  {
   "cell_type": "code",
   "execution_count": 41,
   "id": "a2658d7a-1d09-4bd7-99c2-70f18c56f2e7",
   "metadata": {},
   "outputs": [
    {
     "data": {
      "text/plain": [
       "- : bool = false\n"
      ]
     },
     "execution_count": 41,
     "metadata": {},
     "output_type": "execute_result"
    }
   ],
   "source": [
    "equal l3 l5;;"
   ]
  },
  {
   "cell_type": "code",
   "execution_count": 43,
   "id": "70354d4d-af0d-4307-970d-e04cbbe8a115",
   "metadata": {},
   "outputs": [
    {
     "data": {
      "text/plain": [
       "- : int list = [10; 11; 12]\n"
      ]
     },
     "execution_count": 43,
     "metadata": {},
     "output_type": "execute_result"
    }
   ],
   "source": [
    "map (fun x -> 8 + x) l4;;"
   ]
  },
  {
   "cell_type": "code",
   "execution_count": 44,
   "id": "3c4c17db-eded-4e69-9d97-4e4023b2d7ef",
   "metadata": {},
   "outputs": [
    {
     "data": {
      "text/plain": [
       "- : int list = [3; 4]\n"
      ]
     },
     "execution_count": 44,
     "metadata": {},
     "output_type": "execute_result"
    }
   ],
   "source": [
    "filter (fun x-> x>2) l4;;"
   ]
  },
  {
   "cell_type": "code",
   "execution_count": 45,
   "id": "92878f2d-d44d-4e96-80fb-c70af322d166",
   "metadata": {},
   "outputs": [
    {
     "data": {
      "text/plain": [
       "- : bool = false\n"
      ]
     },
     "execution_count": 45,
     "metadata": {},
     "output_type": "execute_result"
    }
   ],
   "source": [
    "for_all (fun x -> x>2) l4;;"
   ]
  },
  {
   "cell_type": "code",
   "execution_count": 46,
   "id": "91a8a6e5-260f-4587-a0e8-6b1ba97fb407",
   "metadata": {},
   "outputs": [
    {
     "data": {
      "text/plain": [
       "- : bool = true\n"
      ]
     },
     "execution_count": 46,
     "metadata": {},
     "output_type": "execute_result"
    }
   ],
   "source": [
    "exists (fun x -> x> 2) l4;;"
   ]
  },
  {
   "cell_type": "code",
   "execution_count": 47,
   "id": "0336e002-6841-4f10-a753-8df1c3b0babc",
   "metadata": {},
   "outputs": [
    {
     "data": {
      "text/plain": [
       "- : (int * int) list = [(2, 2); (3, 3); (4, 4)]\n"
      ]
     },
     "execution_count": 47,
     "metadata": {},
     "output_type": "execute_result"
    }
   ],
   "source": [
    "asso_pairs l4 l5;;"
   ]
  },
  {
   "cell_type": "code",
   "execution_count": 48,
   "id": "07ff91bc-8951-4bdb-9fb6-e1bc631b3c65",
   "metadata": {},
   "outputs": [
    {
     "data": {
      "text/plain": [
       "val l6 : (int * int) list = [(1, 2); (3, 4); (5, 6)]\n"
      ]
     },
     "execution_count": 48,
     "metadata": {},
     "output_type": "execute_result"
    }
   ],
   "source": [
    "let l6 = [(1,2);(3,4);(5,6)]"
   ]
  },
  {
   "cell_type": "code",
   "execution_count": 51,
   "id": "a01322ef-7080-4944-be99-53af37881f46",
   "metadata": {},
   "outputs": [
    {
     "data": {
      "text/plain": [
       "- : int list * int list = ([1; 3; 5], [2; 4; 6])\n"
      ]
     },
     "execution_count": 51,
     "metadata": {},
     "output_type": "execute_result"
    }
   ],
   "source": [
    "split_pairs_l l6;;"
   ]
  },
  {
   "cell_type": "code",
   "execution_count": 54,
   "id": "8ecb3208-5a19-42cf-baee-fb72627ac075",
   "metadata": {},
   "outputs": [
    {
     "data": {
      "text/plain": [
       "val l7 : int list = [1; 9; 8; 0; 5; 3]\n"
      ]
     },
     "execution_count": 54,
     "metadata": {},
     "output_type": "execute_result"
    }
   ],
   "source": [
    "let l7 = [1;9;8;0;5;3]"
   ]
  },
  {
   "cell_type": "code",
   "execution_count": 55,
   "id": "ea1ad309-145d-45b7-9289-94adabd35c96",
   "metadata": {},
   "outputs": [
    {
     "data": {
      "text/plain": [
       "- : int list * int list = ([1; 8; 5], [9; 0; 3])\n"
      ]
     },
     "execution_count": 55,
     "metadata": {},
     "output_type": "execute_result"
    }
   ],
   "source": [
    "split l7;;"
   ]
  },
  {
   "cell_type": "code",
   "execution_count": 56,
   "id": "4df0f6e2-c9f8-42fd-9829-8d2e8b3897a0",
   "metadata": {},
   "outputs": [
    {
     "data": {
      "text/plain": [
       "val l8 : int list = [1; 3; 5; 8; 10]\n"
      ]
     },
     "execution_count": 56,
     "metadata": {},
     "output_type": "execute_result"
    }
   ],
   "source": [
    "let l8 = [1;3;5;8;10]"
   ]
  },
  {
   "cell_type": "code",
   "execution_count": 57,
   "id": "8d18638e-326d-42b2-ac4a-81ea08ff3081",
   "metadata": {},
   "outputs": [
    {
     "data": {
      "text/plain": [
       "- : int list = [1; 1; 3; 5; 8; 9; 8; 0; 5; 3; 10]\n"
      ]
     },
     "execution_count": 57,
     "metadata": {},
     "output_type": "execute_result"
    }
   ],
   "source": [
    "fusion_l l7 l8;;"
   ]
  },
  {
   "cell_type": "code",
   "execution_count": 58,
   "id": "90d01c02-09a9-4b91-a1f3-960431dd9327",
   "metadata": {},
   "outputs": [
    {
     "data": {
      "text/plain": [
       "- : int list * int list = ([1; 0], [9; 8; 5; 3])\n"
      ]
     },
     "execution_count": 58,
     "metadata": {},
     "output_type": "execute_result"
    }
   ],
   "source": [
    "partition l7 3;;"
   ]
  },
  {
   "cell_type": "code",
   "execution_count": 59,
   "id": "ea112142-60d8-4276-86cf-a35303a3bd70",
   "metadata": {},
   "outputs": [
    {
     "data": {
      "text/plain": [
       "- : int list = [0; 1; 3; 5; 8; 9]\n"
      ]
     },
     "execution_count": 59,
     "metadata": {},
     "output_type": "execute_result"
    }
   ],
   "source": [
    "quicksort l7;;"
   ]
  },
  {
   "cell_type": "code",
   "execution_count": 60,
   "id": "59372b00-2473-455f-bcb3-b6b31e133ab7",
   "metadata": {},
   "outputs": [
    {
     "data": {
      "text/plain": [
       "val l9 : int list list = [[1; 0; 8]; [2; 4; 8]]\n"
      ]
     },
     "execution_count": 60,
     "metadata": {},
     "output_type": "execute_result"
    }
   ],
   "source": [
    "let l9 = [[1;0;8];[2;4;8]]"
   ]
  },
  {
   "cell_type": "code",
   "execution_count": 62,
   "id": "3310cf0a-a89f-488d-80e3-19bc567e3ba6",
   "metadata": {},
   "outputs": [
    {
     "data": {
      "text/plain": [
       "- : int list list = [[3; 1; 0; 8]; [3; 2; 4; 8]]\n"
      ]
     },
     "execution_count": 62,
     "metadata": {},
     "output_type": "execute_result"
    }
   ],
   "source": [
    "add 3 l9;;"
   ]
  },
  {
   "cell_type": "code",
   "execution_count": 63,
   "id": "47a692a8-8849-4d1f-8781-2c6213c83e44",
   "metadata": {},
   "outputs": [
    {
     "data": {
      "text/plain": [
       "- : int list list list =\n",
       "[[]; [[2; 4; 8]]; [[1; 0; 8]]; [[1; 0; 8]; [2; 4; 8]]]\n"
      ]
     },
     "execution_count": 63,
     "metadata": {},
     "output_type": "execute_result"
    }
   ],
   "source": [
    "parties l9;;"
   ]
  },
  {
   "cell_type": "code",
   "execution_count": 65,
   "id": "8897a80b-94c0-4729-8e40-18274e43bbbc",
   "metadata": {},
   "outputs": [
    {
     "data": {
      "text/plain": [
       "- : int array = [|1; 3; 5; 8; 10|]\n"
      ]
     },
     "execution_count": 65,
     "metadata": {},
     "output_type": "execute_result"
    }
   ],
   "source": [
    "array_of_list l8;;"
   ]
  },
  {
   "cell_type": "code",
   "execution_count": 66,
   "id": "b4dd6a13-fc1b-48e5-a220-cd373f6dbda0",
   "metadata": {},
   "outputs": [
    {
     "data": {
      "text/plain": [
       "val t0 : int array = [|0; 9; 8; 7; 6|]\n"
      ]
     },
     "execution_count": 66,
     "metadata": {},
     "output_type": "execute_result"
    }
   ],
   "source": [
    "let t0 = [|0;9;8;7;6|]"
   ]
  },
  {
   "cell_type": "code",
   "execution_count": 67,
   "id": "a923ee9c-4491-4ff0-8156-99555a8d8e7e",
   "metadata": {},
   "outputs": [
    {
     "data": {
      "text/plain": [
       "- : int list = [0; 9; 8; 7; 6]\n"
      ]
     },
     "execution_count": 67,
     "metadata": {},
     "output_type": "execute_result"
    }
   ],
   "source": [
    "array_to_list t0;;"
   ]
  },
  {
   "cell_type": "code",
   "execution_count": 68,
   "id": "89746b8a-97ab-48f1-99a5-2b4702191b2c",
   "metadata": {},
   "outputs": [
    {
     "data": {
      "text/plain": [
       "- : '_weak1 l2c = {elem = 9; prev = <cycle>; next = <cycle>}\n"
      ]
     },
     "execution_count": 68,
     "metadata": {},
     "output_type": "execute_result"
    }
   ],
   "source": [
    "create_l2c 9;;"
   ]
  },
  {
   "cell_type": "code",
   "execution_count": 69,
   "id": "caf9d7e5-4e01-412d-9242-5728b68ef073",
   "metadata": {},
   "outputs": [
    {
     "data": {
      "text/plain": [
       "val l10 : '_weak2 l2c = {elem = 9; prev = <cycle>; next = <cycle>}\n"
      ]
     },
     "execution_count": 69,
     "metadata": {},
     "output_type": "execute_result"
    }
   ],
   "source": [
    "let l10 = create_l2c 9;;"
   ]
  },
  {
   "cell_type": "code",
   "execution_count": 70,
   "id": "4944630c-3fb8-4707-8308-5a7b191ae41b",
   "metadata": {},
   "outputs": [
    {
     "data": {
      "text/plain": [
       "- : unit = ()\n"
      ]
     },
     "execution_count": 70,
     "metadata": {},
     "output_type": "execute_result"
    }
   ],
   "source": [
    "add_l2c l10 2;;"
   ]
  },
  {
   "cell_type": "code",
   "execution_count": 71,
   "id": "6f3f68e6-9ee7-4408-8306-54f7bdf86190",
   "metadata": {},
   "outputs": [
    {
     "data": {
      "text/plain": [
       "- : '_weak3 l2c =\n",
       "{elem = 9; prev = {elem = 2; prev = <cycle>; next = <cycle>};\n",
       " next = {elem = 2; prev = <cycle>; next = <cycle>}}\n"
      ]
     },
     "execution_count": 71,
     "metadata": {},
     "output_type": "execute_result"
    }
   ],
   "source": [
    "l10;;"
   ]
  },
  {
   "cell_type": "code",
   "execution_count": 72,
   "id": "adddef1e-e585-4508-b17c-092604164469",
   "metadata": {},
   "outputs": [
    {
     "data": {
      "text/plain": [
       "- : unit = ()\n"
      ]
     },
     "execution_count": 72,
     "metadata": {},
     "output_type": "execute_result"
    }
   ],
   "source": [
    "suppr_l2c l10;;"
   ]
  },
  {
   "cell_type": "code",
   "execution_count": 73,
   "id": "0caeed36-d351-427e-9866-a2f189df3c30",
   "metadata": {},
   "outputs": [
    {
     "data": {
      "text/plain": [
       "val l11 : '_weak4 l2c = {elem = 0; prev = <cycle>; next = <cycle>}\n"
      ]
     },
     "execution_count": 73,
     "metadata": {},
     "output_type": "execute_result"
    }
   ],
   "source": [
    "let l11 = create_l2c 0;;"
   ]
  },
  {
   "cell_type": "code",
   "execution_count": 75,
   "id": "b343c49b-00c3-4b00-8f70-72ee678704d9",
   "metadata": {},
   "outputs": [
    {
     "data": {
      "text/plain": [
       "- : unit = ()\n"
      ]
     },
     "execution_count": 75,
     "metadata": {},
     "output_type": "execute_result"
    }
   ],
   "source": [
    "add_l2c l11 1;\n",
    "add_l2c l11 3;\n",
    "add_l2c l11 5;;"
   ]
  },
  {
   "cell_type": "code",
   "execution_count": 76,
   "id": "3e9800f1-806c-417c-9199-2221d9e9a6a6",
   "metadata": {},
   "outputs": [
    {
     "data": {
      "text/plain": [
       "- : '_weak5 l2c =\n",
       "{elem = 0;\n",
       " prev =\n",
       "  {elem = 1;\n",
       "   prev =\n",
       "    {elem = 3; prev = {elem = 5; prev = <cycle>; next = <cycle>};\n",
       "     next = <cycle>};\n",
       "   next = <cycle>};\n",
       " next =\n",
       "  {elem = 5; prev = <cycle>;\n",
       "   next =\n",
       "    {elem = 3; prev = <cycle>;\n",
       "     next = {elem = 1; prev = <cycle>; next = <cycle>}}}}\n"
      ]
     },
     "execution_count": 76,
     "metadata": {},
     "output_type": "execute_result"
    }
   ],
   "source": [
    "l11;;"
   ]
  },
  {
   "cell_type": "code",
   "execution_count": 79,
   "id": "c857bfdc-fccd-4883-b6a1-4f366c9768a2",
   "metadata": {},
   "outputs": [
    {
     "data": {
      "text/plain": [
       "- : bool = true\n"
      ]
     },
     "execution_count": 79,
     "metadata": {},
     "output_type": "execute_result"
    }
   ],
   "source": [
    "mem_l2c 1 l11;;"
   ]
  },
  {
   "cell_type": "code",
   "execution_count": 80,
   "id": "0cf2a677-fc48-4d50-a085-3310ac224f52",
   "metadata": {},
   "outputs": [
    {
     "data": {
      "text/plain": [
       "- : bool = false\n"
      ]
     },
     "execution_count": 80,
     "metadata": {},
     "output_type": "execute_result"
    }
   ],
   "source": [
    "mem_l2c 2 l11;;"
   ]
  },
  {
   "cell_type": "code",
   "execution_count": 81,
   "id": "7c6634b1-305f-4cdf-9f8a-1b18e8d100d6",
   "metadata": {},
   "outputs": [
    {
     "data": {
      "text/plain": [
       "- : int = 4\n"
      ]
     },
     "execution_count": 81,
     "metadata": {},
     "output_type": "execute_result"
    }
   ],
   "source": [
    "length_l2c l11;;"
   ]
  },
  {
   "cell_type": "code",
   "execution_count": 83,
   "id": "f8670130-07eb-4a6a-b481-698ac8f42dcc",
   "metadata": {},
   "outputs": [
    {
     "name": "stdout",
     "output_type": "stream",
     "text": [
      "5\n",
      "3\n",
      "1\n",
      "0\n"
     ]
    },
    {
     "data": {
      "text/plain": [
       "- : unit = ()\n"
      ]
     },
     "execution_count": 83,
     "metadata": {},
     "output_type": "execute_result"
    }
   ],
   "source": [
    "print_l2c l11;;"
   ]
  },
  {
   "cell_type": "code",
   "execution_count": null,
   "id": "9762e85d-fdf1-4cf4-a5ab-1c551a76ba8c",
   "metadata": {},
   "outputs": [],
   "source": [
    "let l12 = create_l2c 23"
   ]
  }
 ],
 "metadata": {
  "kernelspec": {
   "display_name": "OCaml default",
   "language": "OCaml",
   "name": "ocaml-jupyter"
  },
  "language_info": {
   "codemirror_mode": "text/x-ocaml",
   "file_extension": ".ml",
   "mimetype": "text/x-ocaml",
   "name": "OCaml",
   "nbconverter_exporter": null,
   "pygments_lexer": "OCaml",
   "version": "4.08.1"
  }
 },
 "nbformat": 4,
 "nbformat_minor": 5
}
